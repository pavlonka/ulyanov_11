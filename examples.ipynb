{
  "nbformat": 4,
  "nbformat_minor": 0,
  "metadata": {
    "colab": {
      "provenance": []
    },
    "kernelspec": {
      "name": "python3",
      "display_name": "Python 3"
    },
    "language_info": {
      "name": "python"
    }
  },
  "cells": [
    {
      "cell_type": "code",
      "source": [
        "# Импортируем нужные функции и класс\n",
        "from tf_idf import TfIdfCalculator\n",
        "from ulysses import load_chapter_text, word_frequency, find_word_context\n",
        "\n",
        "# 1. Загрузка и анализ текста\n",
        "url = 'https://www.gutenberg.org/files/4300/4300-h/4300-h.htm'\n",
        "chapter_text = load_chapter_text(url)\n",
        "freq = word_frequency(chapter_text)\n",
        "print(\"10 самых частых слов в 1-й главе:\")\n",
        "print(freq.most_common(10))\n",
        "\n",
        "# 2. Поиск контекста слова\n",
        "contexts = find_word_context(chapter_text, 'ulysses', left_context=5, right_context=5, cut_length=True)\n",
        "print(f\"Найдено {len(contexts)} вхождений слова 'ulysses'\")\n",
        "\n",
        "# 3. Работа с TfIdfCalculator\n",
        "documents = [\n",
        "    \"This is the first document.\",\n",
        "    \"This document is the second document.\",\n",
        "    \"And this is the third one.\",\n",
        "    \"Is this the first document?\"\n",
        "]\n",
        "tfidf = TfIdfCalculator(documents)\n",
        "print(\"TF слова 'document' в документе 1:\", tfidf.get_tf('document', 1))\n",
        "print(\"IDF слова 'document':\", tfidf.get_idf('document'))\n",
        "print(\"TF-IDF слова 'document' в документе 1:\", tfidf.get_tf_idf('document', 1))"
      ],
      "metadata": {
        "id": "Iujtp0bOLgnB"
      },
      "execution_count": null,
      "outputs": []
    }
  ]
}